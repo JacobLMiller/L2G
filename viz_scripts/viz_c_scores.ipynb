{
 "cells": [
  {
   "cell_type": "code",
   "execution_count": 1,
   "metadata": {},
   "outputs": [],
   "source": [
    "import numpy as np \n",
    "import pylab as plt \n",
    "import os "
   ]
  },
  {
   "cell_type": "code",
   "execution_count": 7,
   "metadata": {},
   "outputs": [],
   "source": [
    "path = '../data/c_scores/'\n",
    "data_paths = os.listdir(path)\n",
    "full_ne, full_cd, full_st = np.zeros(15),np.zeros(15),np.zeros(15)\n",
    "for loc in data_paths:\n",
    "    X = np.loadtxt(path+loc)\n",
    "    ne, cd, st = X[:,0], X[:,1], X[:,2]\n",
    "    full_ne += ne \n",
    "    full_cd += cd \n",
    "    full_st += st \n",
    "\n",
    "full_ne /= len(data_paths)\n",
    "full_cd /= len(data_paths)\n",
    "full_st /= len(data_paths)"
   ]
  },
  {
   "cell_type": "code",
   "execution_count": null,
   "metadata": {},
   "outputs": [],
   "source": [
    "xvals = np.arange(1,50,3)\n",
    "print(xvals.shape)\n",
    "\n",
    "plt.plot(xvals,full_ne,'-o',label=\"NE\")\n",
    "plt.plot(xvals,full_cd,'-o',label=\"CD\")\n",
    "plt.plot(xvals,full_st,'-o',label=\"ST\")\n",
    "\n",
    "plt.show()"
   ]
  },
  {
   "cell_type": "code",
   "execution_count": 19,
   "metadata": {},
   "outputs": [],
   "source": [
    "X = np.arange(1,50,3)\n",
    "A = np.zeros_like(X,dtype=np.float64)\n",
    "B = np.zeros_like(X,dtype=np.float64)\n",
    "D = np.zeros_like(X,dtype=np.float64)\n",
    "\n",
    "C = np.concatenate((A[:,np.newaxis], B[:,np.newaxis], D[:,np.newaxis]),axis=1)\n",
    "\n",
    "C.shape\n",
    "np.savetxt(\"test.txt\",np.concatenate((A[:,np.newaxis], B[:,np.newaxis], D[:,np.newaxis]),axis=1))"
   ]
  }
 ],
 "metadata": {
  "kernelspec": {
   "display_name": "Python 3.9.7 ('gt')",
   "language": "python",
   "name": "python3"
  },
  "language_info": {
   "codemirror_mode": {
    "name": "ipython",
    "version": 3
   },
   "file_extension": ".py",
   "mimetype": "text/x-python",
   "name": "python",
   "nbconvert_exporter": "python",
   "pygments_lexer": "ipython3",
   "version": "3.9.7"
  },
  "orig_nbformat": 4,
  "vscode": {
   "interpreter": {
    "hash": "b80442c9b3804837b1ce71d16c11fffbc4b78f570ee576b32d9a1e1aa414a393"
   }
  }
 },
 "nbformat": 4,
 "nbformat_minor": 2
}
