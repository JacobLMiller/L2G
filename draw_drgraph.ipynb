{
 "cells": [
  {
   "cell_type": "code",
   "execution_count": 8,
   "metadata": {},
   "outputs": [],
   "source": [
    "import os \n",
    "import numpy as np \n",
    "import graph_tool.all as gt\n",
    "from modules.graph_io import draw_tsnet_like as draw "
   ]
  },
  {
   "cell_type": "code",
   "execution_count": 12,
   "metadata": {},
   "outputs": [
    {
     "name": "stdout",
     "output_type": "stream",
     "text": [
      "connected_watts_300\n",
      "powerlaw300\n",
      "powerlaw1000\n",
      "EVA\n",
      "football\n",
      "connected_watts_1000\n",
      "mesh3e1\n",
      "block_model_500\n",
      "fpga\n",
      "dwt_419\n",
      "qh882\n",
      "powerlaw500\n",
      "12square\n",
      "btree9\n",
      "lesmis\n",
      "grid_cluster\n",
      "[[ 0.990708 -1.556792]\n",
      " [ 0.655338 -1.352341]\n",
      " [ 0.727822 -1.097889]\n",
      " ...\n",
      " [ 0.924618 -1.256343]\n",
      " [ 0.638951 -1.279142]\n",
      " [ 0.79945  -1.485479]]\n"
     ]
    },
    {
     "ename": "RuntimeError",
     "evalue": "invalid matrix (not invertible)",
     "output_type": "error",
     "traceback": [
      "\u001b[0;31m---------------------------------------------------------------------------\u001b[0m",
      "\u001b[0;31mTypeError\u001b[0m                                 Traceback (most recent call last)",
      "File \u001b[0;32m~/anaconda3/envs/gt/lib/python3.10/site-packages/graph_tool/draw/cairo_draw.py:1146\u001b[0m, in \u001b[0;36mgraph_draw\u001b[0;34m(g, pos, vprops, eprops, vorder, eorder, nodesfirst, output_size, fit_view, fit_view_ink, adjust_aspect, ink_scale, inline, inline_scale, mplfig, output, fmt, bg_color, **kwargs)\u001b[0m\n\u001b[1;32m   1145\u001b[0m \u001b[39mtry\u001b[39;00m:\n\u001b[0;32m-> 1146\u001b[0m     x, y, w, h \u001b[39m=\u001b[39m fit_view\n\u001b[1;32m   1147\u001b[0m     zoom \u001b[39m=\u001b[39m \u001b[39mmin\u001b[39m(output_size[\u001b[39m0\u001b[39m] \u001b[39m/\u001b[39m w, output_size[\u001b[39m1\u001b[39m] \u001b[39m/\u001b[39m h)\n",
      "\u001b[0;31mTypeError\u001b[0m: cannot unpack non-iterable bool object",
      "\nDuring handling of the above exception, another exception occurred:\n",
      "\u001b[0;31mRuntimeError\u001b[0m                              Traceback (most recent call last)",
      "\u001b[1;32m/home/jacob/Desktop/L2G/draw_drgraph.ipynb Cell 2\u001b[0m in \u001b[0;36m<cell line: 4>\u001b[0;34m()\u001b[0m\n\u001b[1;32m      <a href='vscode-notebook-cell:/home/jacob/Desktop/L2G/draw_drgraph.ipynb#W0sZmlsZQ%3D%3D?line=7'>8</a>\u001b[0m     \u001b[39mprint\u001b[39m(X)\n\u001b[1;32m      <a href='vscode-notebook-cell:/home/jacob/Desktop/L2G/draw_drgraph.ipynb#W0sZmlsZQ%3D%3D?line=8'>9</a>\u001b[0m G \u001b[39m=\u001b[39m gt\u001b[39m.\u001b[39mload_graph(\u001b[39mf\u001b[39m\u001b[39m\"\u001b[39m\u001b[39mtable_graphs/\u001b[39m\u001b[39m{\u001b[39;00mg\u001b[39m}\u001b[39;00m\u001b[39m.dot\u001b[39m\u001b[39m\"\u001b[39m)\n\u001b[0;32m---> <a href='vscode-notebook-cell:/home/jacob/Desktop/L2G/draw_drgraph.ipynb#W0sZmlsZQ%3D%3D?line=9'>10</a>\u001b[0m draw(G,X,\u001b[39mf\u001b[39;49m\u001b[39m\"\u001b[39;49m\u001b[39mdrawings/drgraph/\u001b[39;49m\u001b[39m{\u001b[39;49;00mg\u001b[39m}\u001b[39;49;00m\u001b[39m.pdf\u001b[39;49m\u001b[39m\"\u001b[39;49m)\n",
      "File \u001b[0;32m~/Desktop/L2G/modules/graph_io.py:19\u001b[0m, in \u001b[0;36mdraw_tsnet_like\u001b[0;34m(G, X, output)\u001b[0m\n\u001b[1;32m     17\u001b[0m pos \u001b[39m=\u001b[39m G\u001b[39m.\u001b[39mnew_vp(\u001b[39m\"\u001b[39m\u001b[39mvector<float>\u001b[39m\u001b[39m\"\u001b[39m)\n\u001b[1;32m     18\u001b[0m pos\u001b[39m.\u001b[39mset_2d_array(X\u001b[39m.\u001b[39mT)\n\u001b[0;32m---> 19\u001b[0m gt\u001b[39m.\u001b[39;49mgraph_draw(G,pos\u001b[39m=\u001b[39;49mpos,vertex_fill_color\u001b[39m=\u001b[39;49m\u001b[39m\"\u001b[39;49m\u001b[39mwhite\u001b[39;49m\u001b[39m\"\u001b[39;49m,vertex_size\u001b[39m=\u001b[39;49m\u001b[39m0\u001b[39;49m,edge_color\u001b[39m=\u001b[39;49me_clrs,edge_pen_width\u001b[39m=\u001b[39;49m\u001b[39m1\u001b[39;49m,output\u001b[39m=\u001b[39;49moutput)\n",
      "File \u001b[0;32m~/anaconda3/envs/gt/lib/python3.10/site-packages/graph_tool/draw/cairo_draw.py:1154\u001b[0m, in \u001b[0;36mgraph_draw\u001b[0;34m(g, pos, vprops, eprops, vorder, eorder, nodesfirst, output_size, fit_view, fit_view_ink, adjust_aspect, ink_scale, inline, inline_scale, mplfig, output, fmt, bg_color, **kwargs)\u001b[0m\n\u001b[1;32m   1152\u001b[0m     fit_view_ink \u001b[39m=\u001b[39m g\u001b[39m.\u001b[39mnum_vertices() \u001b[39m<\u001b[39m\u001b[39m=\u001b[39m \u001b[39m1000\u001b[39m\n\u001b[1;32m   1153\u001b[0m \u001b[39mif\u001b[39;00m fit_view_ink:\n\u001b[0;32m-> 1154\u001b[0m     x, y, zoom \u001b[39m=\u001b[39m fit_to_view_ink(g, pos, output_size, vprops,\n\u001b[1;32m   1155\u001b[0m                                  eprops, adjust_aspect, pad\u001b[39m=\u001b[39;49mpad)\n\u001b[1;32m   1156\u001b[0m \u001b[39melse\u001b[39;00m:\n\u001b[1;32m   1157\u001b[0m     x, y, zoom \u001b[39m=\u001b[39m fit_to_view(get_bb(g, pos), output_size,\n\u001b[1;32m   1158\u001b[0m                              adjust_aspect\u001b[39m=\u001b[39madjust_aspect,\n\u001b[1;32m   1159\u001b[0m                              pad\u001b[39m=\u001b[39mpad)\n",
      "File \u001b[0;32m~/anaconda3/envs/gt/lib/python3.10/site-packages/graph_tool/draw/cairo_draw.py:1353\u001b[0m, in \u001b[0;36mfit_to_view_ink\u001b[0;34m(g, pos, output_size, vprops, eprops, adjust_aspect, pad)\u001b[0m\n\u001b[1;32m   1350\u001b[0m vprops \u001b[39m=\u001b[39m \u001b[39mdict\u001b[39m(vprops, pen_width\u001b[39m=\u001b[39mmin_lw(vprops\u001b[39m.\u001b[39mget(\u001b[39m\"\u001b[39m\u001b[39mpen_width\u001b[39m\u001b[39m\"\u001b[39m, \u001b[39m0.\u001b[39m)))\n\u001b[1;32m   1351\u001b[0m eprops \u001b[39m=\u001b[39m \u001b[39mdict\u001b[39m(eprops, pen_width\u001b[39m=\u001b[39mmin_lw(eprops\u001b[39m.\u001b[39mget(\u001b[39m\"\u001b[39m\u001b[39mpen_width\u001b[39m\u001b[39m\"\u001b[39m, \u001b[39m0.\u001b[39m)))\n\u001b[0;32m-> 1353\u001b[0m cairo_draw(g, pos, cr, vprops, eprops)\n\u001b[1;32m   1355\u001b[0m bb \u001b[39m=\u001b[39m \u001b[39mlist\u001b[39m(srf\u001b[39m.\u001b[39mink_extents())\n\u001b[1;32m   1357\u001b[0m bb[\u001b[39m0\u001b[39m], bb[\u001b[39m1\u001b[39m] \u001b[39m=\u001b[39m cr\u001b[39m.\u001b[39mdevice_to_user(bb[\u001b[39m0\u001b[39m], bb[\u001b[39m1\u001b[39m])\n",
      "File \u001b[0;32m~/anaconda3/envs/gt/lib/python3.10/site-packages/graph_tool/draw/cairo_draw.py:677\u001b[0m, in \u001b[0;36mcairo_draw\u001b[0;34m(g, pos, cr, vprops, eprops, vorder, eorder, nodesfirst, vcmap, ecmap, loop_angle, parallel_distance, res, max_render_time, **kwargs)\u001b[0m\n\u001b[1;32m    674\u001b[0m         parallel_distance \u001b[39m=\u001b[39m _defaults\n\u001b[1;32m    675\u001b[0m     eprops[\u001b[39m\"\u001b[39m\u001b[39mcontrol_points\u001b[39m\u001b[39m\"\u001b[39m] \u001b[39m=\u001b[39m position_parallel_edges(g, pos, loop_angle,\n\u001b[1;32m    676\u001b[0m                                                        parallel_distance)\n\u001b[0;32m--> 677\u001b[0m generator \u001b[39m=\u001b[39m libgraph_tool_draw\u001b[39m.\u001b[39;49mcairo_draw(g\u001b[39m.\u001b[39;49m_Graph__graph,\n\u001b[1;32m    678\u001b[0m                                           _prop(\u001b[39m\"\u001b[39;49m\u001b[39mv\u001b[39;49m\u001b[39m\"\u001b[39;49m, g, pos),\n\u001b[1;32m    679\u001b[0m                                           _prop(\u001b[39m\"\u001b[39;49m\u001b[39mv\u001b[39;49m\u001b[39m\"\u001b[39;49m, g, vorder),\n\u001b[1;32m    680\u001b[0m                                           _prop(\u001b[39m\"\u001b[39;49m\u001b[39me\u001b[39;49m\u001b[39m\"\u001b[39;49m, g, eorder),\n\u001b[1;32m    681\u001b[0m                                           nodesfirst, vattrs, eattrs, vdefs, edefs, res,\n\u001b[1;32m    682\u001b[0m                                           max_render_time, cr)\n\u001b[1;32m    683\u001b[0m \u001b[39mif\u001b[39;00m max_render_time \u001b[39m>\u001b[39m\u001b[39m=\u001b[39m \u001b[39m0\u001b[39m:\n\u001b[1;32m    684\u001b[0m     \u001b[39mdef\u001b[39;00m \u001b[39mgen\u001b[39m():\n",
      "\u001b[0;31mRuntimeError\u001b[0m: invalid matrix (not invertible)"
     ]
    }
   ],
   "source": [
    "path = 'drgraph_outputs/'\n",
    "graphs = [s.split(\".\")[0] for s in os.listdir(\"table_graphs\")]\n",
    "\n",
    "for g in graphs:\n",
    "    print(g)\n",
    "    X = np.loadtxt(f\"{path}{g}_20.txt\",skiprows=1)\n",
    "    if g == \"grid_cluster\": \n",
    "        continue\n",
    "    G = gt.load_graph(f\"table_graphs/{g}.dot\")\n",
    "    draw(G,X,f\"drawings/drgraph/{g}.pdf\")\n",
    "\n"
   ]
  }
 ],
 "metadata": {
  "kernelspec": {
   "display_name": "gt",
   "language": "python",
   "name": "python3"
  },
  "language_info": {
   "codemirror_mode": {
    "name": "ipython",
    "version": 3
   },
   "file_extension": ".py",
   "mimetype": "text/x-python",
   "name": "python",
   "nbconvert_exporter": "python",
   "pygments_lexer": "ipython3",
   "version": "3.10.4"
  },
  "orig_nbformat": 4
 },
 "nbformat": 4,
 "nbformat_minor": 2
}
