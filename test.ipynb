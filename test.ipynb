{
 "cells": [
  {
   "cell_type": "code",
   "execution_count": 16,
   "metadata": {},
   "outputs": [],
   "source": [
    "import numpy as np\n",
    "import graph_tool.all as gt \n"
   ]
  },
  {
   "cell_type": "code",
   "execution_count": 17,
   "metadata": {},
   "outputs": [],
   "source": [
    "def apsp(G,weights=None):\n",
    "    d = np.array( [v for v in gt.shortest_distance(G,weights=weights)] ,dtype=float)\n",
    "    return d"
   ]
  },
  {
   "cell_type": "code",
   "execution_count": 18,
   "metadata": {},
   "outputs": [],
   "source": [
    "G = gt.lattice((10,10))\n"
   ]
  },
  {
   "cell_type": "code",
   "execution_count": 19,
   "metadata": {},
   "outputs": [],
   "source": [
    "d = apsp(G)\n"
   ]
  },
  {
   "cell_type": "code",
   "execution_count": 21,
   "metadata": {},
   "outputs": [
    {
     "name": "stdout",
     "output_type": "stream",
     "text": [
      "Finding sigmas... Iteration 50/50: Perplexities in [10.0000, 10.0000].\n",
      "Done. Perplexities in [10.0000, 10.0000].\n"
     ]
    },
    {
     "ename": "NaNException",
     "evalue": "Encountered NaN for cost.",
     "output_type": "error",
     "traceback": [
      "\u001b[0;31m---------------------------------------------------------------------------\u001b[0m",
      "\u001b[0;31mNaNException\u001b[0m                              Traceback (most recent call last)",
      "\u001b[1;32m/home/jacobmiller1/Desktop/L2G/test.ipynb Cell 5\u001b[0m in \u001b[0;36m<cell line: 2>\u001b[0;34m()\u001b[0m\n\u001b[1;32m      <a href='vscode-notebook-cell:/home/jacobmiller1/Desktop/L2G/test.ipynb#W4sZmlsZQ%3D%3D?line=0'>1</a>\u001b[0m \u001b[39mfrom\u001b[39;00m \u001b[39mmodules\u001b[39;00m\u001b[39m.\u001b[39;00m\u001b[39mthesne\u001b[39;00m \u001b[39mimport\u001b[39;00m tsnet\n\u001b[0;32m----> <a href='vscode-notebook-cell:/home/jacobmiller1/Desktop/L2G/test.ipynb#W4sZmlsZQ%3D%3D?line=1'>2</a>\u001b[0m X \u001b[39m=\u001b[39m tsnet(d,perplexity\u001b[39m=\u001b[39;49m\u001b[39m10\u001b[39;49m)\n",
      "File \u001b[0;32m~/Desktop/L2G/modules/thesne.py:381\u001b[0m, in \u001b[0;36mtsnet\u001b[0;34m(X, perplexity, Y, output_dims, n_epochs, initial_lr, final_lr, lr_switch, init_stdev, sigma_iters, initial_momentum, final_momentum, momentum_switch, initial_l_kl, final_l_kl, l_kl_switch, initial_l_c, final_l_c, l_c_switch, initial_l_r, final_l_r, l_r_switch, r_eps, random_state, autostop, window_size, verbose)\u001b[0m\n\u001b[1;32m    378\u001b[0m find_sigma(X_shared, sigma_shared, N, perplexity, sigma_iters, verbose)\n\u001b[1;32m    380\u001b[0m \u001b[39m# Do the optimization to find Y (the node coordinates).\u001b[39;00m\n\u001b[0;32m--> 381\u001b[0m Y \u001b[39m=\u001b[39m find_Y(\n\u001b[1;32m    382\u001b[0m     X_shared, Y_shared, sigma_shared, N, output_dims, n_epochs,\n\u001b[1;32m    383\u001b[0m     initial_lr, final_lr, lr_switch, init_stdev, initial_momentum,\n\u001b[1;32m    384\u001b[0m     final_momentum, momentum_switch,\n\u001b[1;32m    385\u001b[0m     initial_l_kl, final_l_kl, l_kl_switch,\n\u001b[1;32m    386\u001b[0m     initial_l_c, final_l_c, l_c_switch,\n\u001b[1;32m    387\u001b[0m     initial_l_r, final_l_r, l_r_switch,\n\u001b[1;32m    388\u001b[0m     r_eps, autostop, window_size, verbose\n\u001b[1;32m    389\u001b[0m )\n\u001b[1;32m    391\u001b[0m \u001b[39m# Return the vertex coordinates.\u001b[39;00m\n\u001b[1;32m    392\u001b[0m \u001b[39mreturn\u001b[39;00m Y\n",
      "File \u001b[0;32m~/Desktop/L2G/modules/thesne.py:325\u001b[0m, in \u001b[0;36mfind_Y\u001b[0;34m(X_shared, Y_shared, sigma_shared, N, output_dims, n_epochs, initial_lr, final_lr, lr_switch, init_stdev, initial_momentum, final_momentum, momentum_switch, initial_l_kl, final_l_kl, l_kl_switch, initial_l_c, final_l_c, l_c_switch, initial_l_r, final_l_r, l_r_switch, r_eps, autostop, window_size, verbose)\u001b[0m\n\u001b[1;32m    323\u001b[0m c \u001b[39m=\u001b[39m get_cost()\n\u001b[1;32m    324\u001b[0m \u001b[39mif\u001b[39;00m np\u001b[39m.\u001b[39misnan(\u001b[39mfloat\u001b[39m(c)):\n\u001b[0;32m--> 325\u001b[0m     \u001b[39mraise\u001b[39;00m NaNException(\u001b[39m'\u001b[39m\u001b[39mEncountered NaN for cost.\u001b[39m\u001b[39m'\u001b[39m)\n\u001b[1;32m    327\u001b[0m \u001b[39mif\u001b[39;00m verbose:\n\u001b[1;32m    328\u001b[0m     \u001b[39mif\u001b[39;00m autostop \u001b[39mand\u001b[39;00m epoch \u001b[39m>\u001b[39m\u001b[39m=\u001b[39m window_size:\n",
      "\u001b[0;31mNaNException\u001b[0m: Encountered NaN for cost."
     ]
    }
   ],
   "source": [
    "from modules.thesne import tsnet\n",
    "X = tsnet(d)"
   ]
  },
  {
   "cell_type": "code",
   "execution_count": 10,
   "metadata": {},
   "outputs": [],
   "source": [
    "A = gt.adjacency(G).toarray()\n",
    "L,Q = np.linalg.eig(A)\n"
   ]
  },
  {
   "cell_type": "code",
   "execution_count": 15,
   "metadata": {},
   "outputs": [
    {
     "data": {
      "text/plain": [
       "(25,)"
      ]
     },
     "execution_count": 15,
     "metadata": {},
     "output_type": "execute_result"
    }
   ],
   "source": [
    "B = Q @ L @ Q.T\n",
    "B.shape"
   ]
  }
 ],
 "metadata": {
  "kernelspec": {
   "display_name": "Python 3.9.7 ('gt')",
   "language": "python",
   "name": "python3"
  },
  "language_info": {
   "codemirror_mode": {
    "name": "ipython",
    "version": 3
   },
   "file_extension": ".py",
   "mimetype": "text/x-python",
   "name": "python",
   "nbconvert_exporter": "python",
   "pygments_lexer": "ipython3",
   "version": "3.9.7"
  },
  "orig_nbformat": 4,
  "vscode": {
   "interpreter": {
    "hash": "b80442c9b3804837b1ce71d16c11fffbc4b78f570ee576b32d9a1e1aa414a393"
   }
  }
 },
 "nbformat": 4,
 "nbformat_minor": 2
}
