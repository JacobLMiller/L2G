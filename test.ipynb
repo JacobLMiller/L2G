{
 "cells": [
  {
   "cell_type": "code",
   "execution_count": 28,
   "metadata": {},
   "outputs": [],
   "source": [
    "import numpy as np\n",
    "import graph_tool.all as gt \n"
   ]
  },
  {
   "cell_type": "code",
   "execution_count": 29,
   "metadata": {},
   "outputs": [],
   "source": [
    "def apsp(G,weights=None):\n",
    "    d = np.array( [v for v in gt.shortest_distance(G,weights=weights)] ,dtype=float)\n",
    "    return d"
   ]
  },
  {
   "cell_type": "code",
   "execution_count": 30,
   "metadata": {},
   "outputs": [],
   "source": [
    "G = gt.lattice((20,20))\n"
   ]
  },
  {
   "cell_type": "code",
   "execution_count": null,
   "metadata": {},
   "outputs": [],
   "source": []
  },
  {
   "cell_type": "code",
   "execution_count": 31,
   "metadata": {},
   "outputs": [],
   "source": [
    "A = gt.adjacency(G).toarray()\n"
   ]
  },
  {
   "cell_type": "code",
   "execution_count": 32,
   "metadata": {},
   "outputs": [],
   "source": [
    "import scipy"
   ]
  },
  {
   "cell_type": "code",
   "execution_count": 33,
   "metadata": {},
   "outputs": [
    {
     "name": "stdout",
     "output_type": "stream",
     "text": [
      "L's shape is (400,) and Q's shape is (400, 400)\n"
     ]
    }
   ],
   "source": [
    "L,Q = np.linalg.eigh(A)\n",
    "Lp_old = sum(L ** p for p in range(1,10))\n",
    "\n",
    "B_old = np.matmul(np.matmul(Q, np.diag(Lp_old)), Q.T)\n",
    "\n",
    "\n",
    "print(f\"L's shape is {L.shape} and Q's shape is {Q.shape}\")"
   ]
  },
  {
   "cell_type": "code",
   "execution_count": 51,
   "metadata": {},
   "outputs": [],
   "source": [
    "A = gt.adjacency(G)\n",
    "L,Q = np.linalg.eigh(A.toarray())\n",
    "Lp = sum(L ** p for p in range(1,10))\n",
    "\n",
    "B = np.matmul(np.matmul(Q, np.diag(Lp)), Q.T)\n",
    "\n"
   ]
  },
  {
   "cell_type": "code",
   "execution_count": 44,
   "metadata": {},
   "outputs": [],
   "source": [
    "A = gt.adjacency(G).toarray()"
   ]
  },
  {
   "cell_type": "code",
   "execution_count": 45,
   "metadata": {},
   "outputs": [],
   "source": [
    "Ap = sum(np.linalg.matrix_power(A,p) for p in range(1,10))"
   ]
  },
  {
   "cell_type": "code",
   "execution_count": 46,
   "metadata": {},
   "outputs": [
    {
     "data": {
      "text/plain": [
       "1.6837333682036608e-08"
      ]
     },
     "execution_count": 46,
     "metadata": {},
     "output_type": "execute_result"
    }
   ],
   "source": [
    "np.linalg.norm(Ap-B,ord='fro')"
   ]
  },
  {
   "cell_type": "code",
   "execution_count": 12,
   "metadata": {},
   "outputs": [],
   "source": [
    "# X = np.random.rand(5,5)\n",
    "# X = (X.T + X)/2 \n",
    "\n",
    "# X.dtype"
   ]
  },
  {
   "cell_type": "code",
   "execution_count": 13,
   "metadata": {},
   "outputs": [],
   "source": [
    "# L,Q = np.linalg.eig(X)\n",
    "# B = np.matmul(np.matmul(Q, np.diag(L)), Q.T)\n",
    "\n",
    "# print(np.linalg.norm(B-X,'fro'))"
   ]
  },
  {
   "cell_type": "code",
   "execution_count": null,
   "metadata": {},
   "outputs": [],
   "source": []
  }
 ],
 "metadata": {
  "kernelspec": {
   "display_name": "Python 3.9.7 ('gt')",
   "language": "python",
   "name": "python3"
  },
  "language_info": {
   "codemirror_mode": {
    "name": "ipython",
    "version": 3
   },
   "file_extension": ".py",
   "mimetype": "text/x-python",
   "name": "python",
   "nbconvert_exporter": "python",
   "pygments_lexer": "ipython3",
   "version": "3.10.4"
  },
  "orig_nbformat": 4,
  "vscode": {
   "interpreter": {
    "hash": "b80442c9b3804837b1ce71d16c11fffbc4b78f570ee576b32d9a1e1aa414a393"
   }
  }
 },
 "nbformat": 4,
 "nbformat_minor": 2
}
