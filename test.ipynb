{
 "cells": [
  {
   "cell_type": "code",
   "execution_count": 1,
   "metadata": {},
   "outputs": [],
   "source": [
    "import numpy as np\n",
    "import graph_tool.all as gt \n"
   ]
  },
  {
   "cell_type": "code",
   "execution_count": 2,
   "metadata": {},
   "outputs": [],
   "source": [
    "def apsp(G,weights=None):\n",
    "    d = np.array( [v for v in gt.shortest_distance(G,weights=weights)] ,dtype=float)\n",
    "    return d"
   ]
  },
  {
   "cell_type": "code",
   "execution_count": 3,
   "metadata": {},
   "outputs": [],
   "source": [
    "G = gt.lattice((20,20))\n"
   ]
  },
  {
   "cell_type": "code",
   "execution_count": null,
   "metadata": {},
   "outputs": [],
   "source": []
  },
  {
   "cell_type": "code",
   "execution_count": 4,
   "metadata": {},
   "outputs": [],
   "source": [
    "A = gt.adjacency(G).toarray()\n"
   ]
  },
  {
   "cell_type": "code",
   "execution_count": 5,
   "metadata": {},
   "outputs": [],
   "source": [
    "import scipy"
   ]
  },
  {
   "cell_type": "code",
   "execution_count": 6,
   "metadata": {},
   "outputs": [
    {
     "name": "stdout",
     "output_type": "stream",
     "text": [
      "L's shape is (400,) and Q's shape is (400, 400)\n"
     ]
    }
   ],
   "source": [
    "L,Q = np.linalg.eigh(A)\n",
    "Lp_old = sum(L ** p for p in range(1,10))\n",
    "\n",
    "B_old = np.matmul(np.matmul(Q, np.diag(Lp_old)), Q.T)\n",
    "\n",
    "\n",
    "print(f\"L's shape is {L.shape} and Q's shape is {Q.shape}\")"
   ]
  },
  {
   "cell_type": "code",
   "execution_count": 7,
   "metadata": {},
   "outputs": [],
   "source": [
    "A = gt.adjacency(G)\n",
    "L,Q = np.linalg.eigh(A.toarray())\n",
    "Lp = sum(L ** p for p in range(1,10))\n",
    "\n",
    "B = np.matmul(np.matmul(Q, np.diag(Lp)), Q.T)\n",
    "\n"
   ]
  },
  {
   "cell_type": "code",
   "execution_count": 8,
   "metadata": {},
   "outputs": [],
   "source": [
    "A = gt.adjacency(G).toarray()"
   ]
  },
  {
   "cell_type": "code",
   "execution_count": 9,
   "metadata": {},
   "outputs": [],
   "source": [
    "Ap = sum(np.linalg.matrix_power(A,p) for p in range(1,10))"
   ]
  },
  {
   "cell_type": "code",
   "execution_count": 10,
   "metadata": {},
   "outputs": [
    {
     "data": {
      "text/plain": [
       "4.8714918702962774e-09"
      ]
     },
     "execution_count": 10,
     "metadata": {},
     "output_type": "execute_result"
    }
   ],
   "source": [
    "np.linalg.norm(Ap-B,ord='fro')"
   ]
  },
  {
   "cell_type": "code",
   "execution_count": 11,
   "metadata": {},
   "outputs": [],
   "source": [
    "# X = np.random.rand(5,5)\n",
    "# X = (X.T + X)/2 \n",
    "\n",
    "# X.dtype"
   ]
  },
  {
   "cell_type": "code",
   "execution_count": 12,
   "metadata": {},
   "outputs": [],
   "source": [
    "# L,Q = np.linalg.eig(X)\n",
    "# B = np.matmul(np.matmul(Q, np.diag(L)), Q.T)\n",
    "\n",
    "# print(np.linalg.norm(B-X,'fro'))"
   ]
  },
  {
   "cell_type": "code",
   "execution_count": 15,
   "metadata": {},
   "outputs": [],
   "source": [
    "import os \n",
    "from modules.graph_io import write_edgelist\n",
    "path = 'table_graphs/'\n",
    "graph_paths = os.listdir(path)\n",
    "\n",
    "# graph_paths = list( map(lambda s: s.split('.')[0], graph_paths) )\n",
    "graphs = [(gt.load_graph(f\"{path+graph}\"),graph) for graph in graph_paths]"
   ]
  },
  {
   "cell_type": "code",
   "execution_count": 16,
   "metadata": {},
   "outputs": [],
   "source": [
    "for G,path in graphs:\n",
    "    fpath = f\"table_txt_graphs/{path.split('.')[0]}.txt\"\n",
    "    write_edgelist(G,fpath)\n"
   ]
  }
 ],
 "metadata": {
  "kernelspec": {
   "display_name": "Python 3.9.7 ('gt')",
   "language": "python",
   "name": "python3"
  },
  "language_info": {
   "codemirror_mode": {
    "name": "ipython",
    "version": 3
   },
   "file_extension": ".py",
   "mimetype": "text/x-python",
   "name": "python",
   "nbconvert_exporter": "python",
   "pygments_lexer": "ipython3",
   "version": "3.10.4"
  },
  "orig_nbformat": 4,
  "vscode": {
   "interpreter": {
    "hash": "b80442c9b3804837b1ce71d16c11fffbc4b78f570ee576b32d9a1e1aa414a393"
   }
  }
 },
 "nbformat": 4,
 "nbformat_minor": 2
}
